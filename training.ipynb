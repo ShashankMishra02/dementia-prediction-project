{
 "cells": [
  {
   "cell_type": "code",
   "execution_count": null,
   "metadata": {},
   "outputs": [],
   "source": []
  }
 ],
 "metadata": {
  "kernelspec": {
   "display_name": "Python 3.10.8 ('base')",
   "language": "python",
   "name": "python3"
  },
  "language_info": {
   "name": "python",
   "version": "3.10.8"
  },
  "orig_nbformat": 4,
  "vscode": {
   "interpreter": {
    "hash": "725d79c32e12e6a3f76f280d718ad6f1364ba6a106ef36317a8bed0dc1b3d937"
   }
  }
 },
 "nbformat": 4,
 "nbformat_minor": 2
}
